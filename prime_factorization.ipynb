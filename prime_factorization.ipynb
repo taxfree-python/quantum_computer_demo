{
  "nbformat": 4,
  "nbformat_minor": 0,
  "metadata": {
    "colab": {
      "provenance": [],
      "authorship_tag": "ABX9TyPAxw+iHVBoIr9MJBqOz0sx",
      "include_colab_link": true
    },
    "kernelspec": {
      "name": "python3",
      "display_name": "Python 3"
    },
    "language_info": {
      "name": "python"
    }
  },
  "cells": [
    {
      "cell_type": "markdown",
      "metadata": {
        "id": "view-in-github",
        "colab_type": "text"
      },
      "source": [
        "<a href=\"https://colab.research.google.com/github/taxfree-python/quantum_computer_demo/blob/main/prime_factorization.ipynb\" target=\"_parent\"><img src=\"https://colab.research.google.com/assets/colab-badge.svg\" alt=\"Open In Colab\"/></a>"
      ]
    },
    {
      "cell_type": "code",
      "source": [
        "import random\n",
        "from math import gcd\n",
        "from functools import reduce\n",
        "import operator\n",
        "\n",
        "\n",
        "TEST_NUM = 10"
      ],
      "metadata": {
        "id": "jfoVimR7cg01"
      },
      "execution_count": 43,
      "outputs": []
    },
    {
      "cell_type": "code",
      "execution_count": 42,
      "metadata": {
        "id": "tR0irwwJV4le"
      },
      "outputs": [],
      "source": [
        "def is_prime(n):\n",
        "    if n < 2:\n",
        "        return False\n",
        "    for i in range(2, int(n ** 0.5) + 1):\n",
        "        if n % i == 0:\n",
        "            return False\n",
        "    return True\n",
        "\n",
        "def find_period(x, N):\n",
        "    a = 0\n",
        "    r = 1\n",
        "    while True:\n",
        "        a += 1\n",
        "        r = (r * x) % N\n",
        "        if r == 1:\n",
        "            return a\n",
        "\n",
        "def factor(N):\n",
        "    if N == 1:\n",
        "        return []\n",
        "\n",
        "    if is_prime(N):\n",
        "        return [N]\n",
        "\n",
        "    while True:\n",
        "        x = random.randint(2, N - 1)\n",
        "        if gcd(x, N) != 1:\n",
        "            p = gcd(x, N)\n",
        "            if is_prime(p):\n",
        "                return [p] + factor(N // p)\n",
        "            else:\n",
        "                return factor(p) + factor(N // p)\n",
        "\n",
        "        r = find_period(x, N)\n",
        "        if r % 2 == 0:\n",
        "            p = gcd(pow(x, r // 2, N) + 1, N)\n",
        "            q = gcd(pow(x, r // 2, N) - 1, N)\n",
        "            if p != 1 and p != N:\n",
        "                if is_prime(p):\n",
        "                    return [p] + factor(N // p)\n",
        "                else:\n",
        "                    return factor(p) + factor(N // p)\n",
        "            if q != 1 and q != N:\n",
        "                if is_prime(q):\n",
        "                    return [q] + factor(N // q)\n",
        "                else:\n",
        "                    return factor(q) + factor(N // q)"
      ]
    },
    {
      "cell_type": "code",
      "source": [
        "for _ in range(TEST_NUM):\n",
        "    N = random.randint(1, 10**+7)\n",
        "    factors = sorted(factor(N))\n",
        "    print(f\"The prime factors of {N} are {factors}， product is {reduce(operator.mul, factors)}.\")"
      ],
      "metadata": {
        "colab": {
          "base_uri": "https://localhost:8080/"
        },
        "id": "WDTKdbq2V5I7",
        "outputId": "d7fe7efa-1326-47f9-9a49-ebcfa8eeb1ec"
      },
      "execution_count": 44,
      "outputs": [
        {
          "output_type": "stream",
          "name": "stdout",
          "text": [
            "The prime factors of 3140307 are [3, 3, 348923]， product is 3140307.\n",
            "The prime factors of 4041608 are [2, 2, 2, 505201]， product is 4041608.\n",
            "The prime factors of 1277666 are [2, 13, 157, 313]， product is 1277666.\n",
            "The prime factors of 460778 are [2, 230389]， product is 460778.\n",
            "The prime factors of 917928 are [2, 2, 2, 3, 3, 11, 19, 61]， product is 917928.\n",
            "The prime factors of 8086825 are [5, 5, 323473]， product is 8086825.\n",
            "The prime factors of 4221258 are [2, 3, 47, 14969]， product is 4221258.\n",
            "The prime factors of 7402477 are [827, 8951]， product is 7402477.\n",
            "The prime factors of 5078720 are [2, 2, 2, 2, 2, 2, 5, 59, 269]， product is 5078720.\n",
            "The prime factors of 1589297 are [1589297]， product is 1589297.\n"
          ]
        }
      ]
    },
    {
      "cell_type": "code",
      "source": [],
      "metadata": {
        "id": "iqi9HTa0abq1"
      },
      "execution_count": null,
      "outputs": []
    }
  ]
}